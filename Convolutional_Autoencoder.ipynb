{
 "cells": [
  {
   "cell_type": "markdown",
   "metadata": {},
   "source": [
    "# Convolutional Autoencoder\n",
    "\n",
    "Sticking with the MNIST dataset, let's improve our autoencoder's performance using convolutional layers. Again, loading modules and the data."
   ]
  },
  {
   "cell_type": "code",
   "execution_count": 1,
   "metadata": {
    "collapsed": true
   },
   "outputs": [],
   "source": [
    "%matplotlib inline\n",
    "\n",
    "import numpy as np\n",
    "import tensorflow as tf\n",
    "import matplotlib.pyplot as plt"
   ]
  },
  {
   "cell_type": "code",
   "execution_count": 2,
   "metadata": {},
   "outputs": [
    {
     "name": "stdout",
     "output_type": "stream",
     "text": [
      "Extracting MNIST_data/train-images-idx3-ubyte.gz\n",
      "Extracting MNIST_data/train-labels-idx1-ubyte.gz\n",
      "Extracting MNIST_data/t10k-images-idx3-ubyte.gz\n",
      "Extracting MNIST_data/t10k-labels-idx1-ubyte.gz\n"
     ]
    }
   ],
   "source": [
    "from tensorflow.examples.tutorials.mnist import input_data\n",
    "mnist = input_data.read_data_sets('MNIST_data', validation_size=0)"
   ]
  },
  {
   "cell_type": "code",
   "execution_count": 3,
   "metadata": {},
   "outputs": [
    {
     "data": {
      "text/plain": [
       "<matplotlib.image.AxesImage at 0x11ad1f518>"
      ]
     },
     "execution_count": 3,
     "metadata": {},
     "output_type": "execute_result"
    },
    {
     "data": {
      "image/png": "[encoded data removed]",
      "text/plain": [
       "<matplotlib.figure.Figure at 0x1119e9780>"
      ]
     },
     "metadata": {},
     "output_type": "display_data"
    }
   ],
   "source": [
    "img = mnist.train.images[2]\n",
    "plt.imshow(img.reshape((28, 28)), cmap='Greys_r')"
   ]
  },
  {
   "cell_type": "markdown",
   "metadata": {},
   "source": [
    "## Network Architecture\n",
    "\n",
    "The encoder part of the network will be a typical convolutional pyramid. Each convolutional layer will be followed by a max-pooling layer to reduce the dimensions of the layers. The decoder though might be something new to you. The decoder needs to convert from a narrow representation to a wide reconstructed image. For example, the representation could be a 4x4x8 max-pool layer. This is the output of the encoder, but also the input to the decoder. We want to get a 28x28x1 image out from the decoder so we need to work our way back up from the narrow decoder input layer. A schematic of the network is shown below.\n",
    "\n",
    "<img src='assets/convolutional_autoencoder.png' width=500px>\n",
    "\n",
    "Here our final encoder layer has size 4x4x8 = 128. The original images have size 28x28 = 784, so the encoded vector is roughly 16% the size of the original image. These are just suggested sizes for each of the layers. Feel free to change the depths and sizes, but remember our goal here is to find a small representation of the input data.\n",
    "\n",
    "### What's going on with the decoder\n",
    "\n",
    "Okay, so the decoder has these \"Upsample\" layers that you might not have seen before. First off, I'll discuss a bit what these layers *aren't*. Usually, you'll see **transposed convolution** layers used to increase the width and height of the layers. They work almost exactly the same as convolutional layers, but in reverse. A stride in the input layer results in a larger stride in the transposed convolution layer. For example, if you have a 3x3 kernel, a 3x3 patch in the input layer will be reduced to one unit in a convolutional layer. Comparatively, one unit in the input layer will be expanded to a 3x3 path in a transposed convolution layer. The TensorFlow API provides us with an easy way to create the layers, [`tf.nn.conv2d_transpose`](https://www.tensorflow.org/api_docs/python/tf/nn/conv2d_transpose). \n",
    "\n",
    "However, transposed convolution layers can lead to artifacts in the final images, such as checkerboard patterns. This is due to overlap in the kernels which can be avoided by setting the stride and kernel size equal. In [this Distill article](http://distill.pub/2016/deconv-checkerboard/) from Augustus Odena, *et al*, the authors show that these checkerboard artifacts can be avoided by resizing the layers using nearest neighbor or bilinear interpolation (upsampling) followed by a convolutional layer. In TensorFlow, this is easily done with [`tf.image.resize_images`](https://www.tensorflow.org/versions/r1.1/api_docs/python/tf/image/resize_images), followed by a convolution. Be sure to read the Distill article to get a better understanding of deconvolutional layers and why we're using upsampling.\n",
    "\n",
    "> **Exercise:** Build the network shown above. Remember that a convolutional layer with strides of 1 and 'same' padding won't reduce the height and width. That is, if the input is 28x28 and the convolution layer has stride = 1 and 'same' padding, the convolutional layer will also be 28x28. The max-pool layers are used the reduce the width and height. A stride of 2 will reduce the size by 2. Odena *et al* claim that nearest neighbor interpolation works best for the upsampling, so make sure to include that as a parameter in `tf.image.resize_images` or use [`tf.image.resize_nearest_neighbor`]( `https://www.tensorflow.org/api_docs/python/tf/image/resize_nearest_neighbor). For convolutional layers, use [`tf.layers.conv2d`](https://www.tensorflow.org/api_docs/python/tf/layers/conv2d). For example, you would write `conv1 = tf.layers.conv2d(inputs, 32, (5,5), padding='same', activation=tf.nn.relu)` for a layer with a depth of 32, a 5x5 kernel, stride of (1,1), padding is 'same', and a ReLU activation. Similarly, for the max-pool layers, use [`tf.layers.max_pooling2d`](https://www.tensorflow.org/api_docs/python/tf/layers/max_pooling2d)."
   ]
  },
  {
   "cell_type": "code",
   "execution_count": 6,
   "metadata": {},
   "outputs": [
    {
     "data": {
      "text/plain": [
       "784"
      ]
     },
     "execution_count": 6,
     "metadata": {},
     "output_type": "execute_result"
    }
   ],
   "source": [
    "img.shape[0]"
   ]
  },
  {
   "cell_type": "code",
   "execution_count": 32,
   "metadata": {},
   "outputs": [
    {
     "name": "stdout",
     "output_type": "stream",
     "text": [
      "(?, 14, 14, 8)\n",
      "(?, 7, 7, 8)\n",
      "(?, 7, 7, 8)\n",
      "(?, 4, 4, 8)\n"
     ]
    }
   ],
   "source": [
    "learning_rate = 0.001\n",
    "# Input and target placeholders\n",
    "\n",
    "\n",
    "\n",
    "inputs_  = tf.placeholder(tf.float32, shape=(None, 28, 28, 1), name='inputs')\n",
    "targets_ = tf.placeholder(tf.float32, shape=(None, 28, 28, 1), name='targets')\n",
    "\n",
    "### Encoder\n",
    "conv1 = tf.layers.conv2d(inputs_, 16, (3, 3), padding='same', activation=tf.nn.relu)\n",
    "# Now 28x28x16\n",
    "\n",
    "maxpool1 = tf.layers.max_pooling2d(conv1, (2, 2), (2, 2), padding='same')\n",
    "# Now 14x14x16\n",
    "\n",
    "conv2 = tf.layers.conv2d(maxpool1, 8, (3, 3), padding='same', activation=tf.nn.relu)\n",
    "# Now 14x14x8\n",
    "print(conv2.shape)\n",
    "\n",
    "maxpool2 = tf.layers.max_pooling2d(conv2, (2, 2), (2, 2), padding='same')\n",
    "# Now 7x7x8\n",
    "print(maxpool2 .shape)\n",
    "\n",
    "conv3 = tf.layers.conv2d(maxpool2, 8, (3, 3), padding='same', activation=tf.nn.relu)\n",
    "# Now 7x7x8\n",
    "\n",
    "print(conv3.shape)\n",
    "\n",
    "encoded = tf.layers.max_pooling2d(conv3, (2, 2), (2, 2), padding='same')\n",
    "# Now 4x4x8\n",
    "\n",
    "print(encoded.shape)"
   ]
  },
  {
   "cell_type": "code",
   "execution_count": 18,
   "metadata": {},
   "outputs": [
    {
     "name": "stdout",
     "output_type": "stream",
     "text": [
      "(?, 7, 7, 8)\n",
      "(?, 14, 14, 8)\n",
      "(?, 14, 14, 8)\n"
     ]
    }
   ],
   "source": [
    "### Decoder\n",
    "upsample1 = tf.image.resize_nearest_neighbor(encoded, (7,7))\n",
    "print(upsample1.shape)\n",
    "# Now 7x7x8\n",
    "conv4 = tf.layers.conv2d(upsample1, 8, (3, 3), padding='same', activation=tf.nn.relu)\n",
    "# Now 7x7x8\n",
    "upsample2 = tf.image.resize_nearest_neighbor(conv4, (14,14))\n",
    "print(upsample2.shape)\n",
    "# Now 14x14x8\n",
    "conv5 = tf.layers.conv2d(upsample2, 8, (3, 3), padding='same', activation=tf.nn.relu)\n",
    "print(conv5.shape)\n",
    "# Now 14x14x8\n",
    "upsample3 = tf.image.resize_nearest_neighbor(conv5, (28,28))\n",
    "# Now 28x28x8\n",
    "conv6 = tf.layers.conv2d(upsample3, 16, (3, 3), padding='same', activation=tf.nn.relu)\n",
    "# Now 28x28x16\n",
    "\n",
    "logits = tf.layers.conv2d(conv6, 1, (3,3), padding='same', activation=None)\n",
    "#Now 28x28x1\n",
    "\n",
    "# Pass logits through sigmoid to get reconstructed image\n",
    "decoded = tf.sigmoid(logits)\n",
    "\n",
    "# Pass logits through sigmoid and calculate the cross-entropy loss\n",
    "loss = tf.nn.sigmoid_cross_entropy_with_logits(labels=targets_, logits=logits)\n",
    "\n",
    "# Get cost and define the optimizer\n",
    "cost = tf.reduce_mean(loss)\n",
    "opt = tf.train.AdamOptimizer(learning_rate).minimize(cost)"
   ]
  },
  {
   "cell_type": "markdown",
   "metadata": {},
   "source": [
    "## Training\n",
    "\n",
    "As before, here we'll train the network. Instead of flattening the images though, we can pass them in as 28x28x1 arrays."
   ]
  },
  {
   "cell_type": "code",
   "execution_count": 19,
   "metadata": {
    "collapsed": true
   },
   "outputs": [],
   "source": [
    "sess = tf.Session()"
   ]
  },
  {
   "cell_type": "code",
   "execution_count": 23,
   "metadata": {
    "scrolled": true
   },
   "outputs": [
    {
     "name": "stdout",
     "output_type": "stream",
     "text": [
      "Epoch: 1/20... Batch: 0/300... Training loss: 0.6956\n",
      "Epoch: 1/20... Batch: 30/300... Training loss: 0.5173\n",
      "Epoch: 1/20... Batch: 60/300... Training loss: 0.3018\n",
      "Epoch: 1/20... Batch: 90/300... Training loss: 0.2366\n",
      "Epoch: 1/20... Batch: 120/300... Training loss: 0.2251\n",
      "Epoch: 1/20... Batch: 150/300... Training loss: 0.2055\n",
      "Epoch: 1/20... Batch: 180/300... Training loss: 0.1994\n",
      "Epoch: 1/20... Batch: 210/300... Training loss: 0.1967\n",
      "Epoch: 1/20... Batch: 240/300... Training loss: 0.1808\n",
      "Epoch: 1/20... Batch: 270/300... Training loss: 0.1853\n",
      "Epoch: 2/20... Batch: 0/300... Training loss: 0.1836\n",
      "Epoch: 2/20... Batch: 30/300... Training loss: 0.1706\n",
      "Epoch: 2/20... Batch: 60/300... Training loss: 0.1738\n",
      "Epoch: 2/20... Batch: 90/300... Training loss: 0.1649\n",
      "Epoch: 2/20... Batch: 120/300... Training loss: 0.1599\n",
      "Epoch: 2/20... Batch: 150/300... Training loss: 0.1658\n",
      "Epoch: 2/20... Batch: 180/300... Training loss: 0.1589\n",
      "Epoch: 2/20... Batch: 210/300... Training loss: 0.1521\n",
      "Epoch: 2/20... Batch: 240/300... Training loss: 0.1597\n",
      "Epoch: 2/20... Batch: 270/300... Training loss: 0.1511\n",
      "Epoch: 3/20... Batch: 0/300... Training loss: 0.1567\n",
      "Epoch: 3/20... Batch: 30/300... Training loss: 0.1470\n",
      "Epoch: 3/20... Batch: 60/300... Training loss: 0.1450\n",
      "Epoch: 3/20... Batch: 90/300... Training loss: 0.1479\n",
      "Epoch: 3/20... Batch: 120/300... Training loss: 0.1477\n",
      "Epoch: 3/20... Batch: 150/300... Training loss: 0.1400\n",
      "Epoch: 3/20... Batch: 180/300... Training loss: 0.1433\n",
      "Epoch: 3/20... Batch: 210/300... Training loss: 0.1394\n",
      "Epoch: 3/20... Batch: 240/300... Training loss: 0.1418\n",
      "Epoch: 3/20... Batch: 270/300... Training loss: 0.1405\n",
      "Epoch: 4/20... Batch: 0/300... Training loss: 0.1374\n",
      "Epoch: 4/20... Batch: 30/300... Training loss: 0.1420\n",
      "Epoch: 4/20... Batch: 60/300... Training loss: 0.1376\n",
      "Epoch: 4/20... Batch: 90/300... Training loss: 0.1465\n",
      "Epoch: 4/20... Batch: 120/300... Training loss: 0.1384\n",
      "Epoch: 4/20... Batch: 150/300... Training loss: 0.1367\n",
      "Epoch: 4/20... Batch: 180/300... Training loss: 0.1384\n",
      "Epoch: 4/20... Batch: 210/300... Training loss: 0.1316\n",
      "Epoch: 4/20... Batch: 240/300... Training loss: 0.1353\n",
      "Epoch: 4/20... Batch: 270/300... Training loss: 0.1332\n",
      "Epoch: 5/20... Batch: 0/300... Training loss: 0.1338\n",
      "Epoch: 5/20... Batch: 30/300... Training loss: 0.1376\n",
      "Epoch: 5/20... Batch: 60/300... Training loss: 0.1359\n",
      "Epoch: 5/20... Batch: 90/300... Training loss: 0.1308\n",
      "Epoch: 5/20... Batch: 120/300... Training loss: 0.1259\n",
      "Epoch: 5/20... Batch: 150/300... Training loss: 0.1310\n",
      "Epoch: 5/20... Batch: 180/300... Training loss: 0.1364\n",
      "Epoch: 5/20... Batch: 210/300... Training loss: 0.1327\n",
      "Epoch: 5/20... Batch: 240/300... Training loss: 0.1267\n",
      "Epoch: 5/20... Batch: 270/300... Training loss: 0.1260\n",
      "Epoch: 6/20... Batch: 0/300... Training loss: 0.1258\n",
      "Epoch: 6/20... Batch: 30/300... Training loss: 0.1258\n",
      "Epoch: 6/20... Batch: 60/300... Training loss: 0.1298\n",
      "Epoch: 6/20... Batch: 90/300... Training loss: 0.1272\n",
      "Epoch: 6/20... Batch: 120/300... Training loss: 0.1290\n",
      "Epoch: 6/20... Batch: 150/300... Training loss: 0.1231\n",
      "Epoch: 6/20... Batch: 180/300... Training loss: 0.1288\n",
      "Epoch: 6/20... Batch: 210/300... Training loss: 0.1262\n",
      "Epoch: 6/20... Batch: 240/300... Training loss: 0.1226\n",
      "Epoch: 6/20... Batch: 270/300... Training loss: 0.1255\n",
      "Epoch: 7/20... Batch: 0/300... Training loss: 0.1228\n",
      "Epoch: 7/20... Batch: 30/300... Training loss: 0.1262\n",
      "Epoch: 7/20... Batch: 60/300... Training loss: 0.1217\n",
      "Epoch: 7/20... Batch: 90/300... Training loss: 0.1229\n",
      "Epoch: 7/20... Batch: 120/300... Training loss: 0.1249\n",
      "Epoch: 7/20... Batch: 150/300... Training loss: 0.1232\n",
      "Epoch: 7/20... Batch: 180/300... Training loss: 0.1204\n",
      "Epoch: 7/20... Batch: 210/300... Training loss: 0.1295\n",
      "Epoch: 7/20... Batch: 240/300... Training loss: 0.1205\n",
      "Epoch: 7/20... Batch: 270/300... Training loss: 0.1242\n"
     ]
    },
    {
     "ename": "KeyboardInterrupt",
     "evalue": "",
     "output_type": "error",
     "traceback": [
      "\u001b[0;31m---------------------------------------------------------------------------\u001b[0m",
      "\u001b[0;31mKeyboardInterrupt\u001b[0m                         Traceback (most recent call last)",
      "\u001b[0;32m<ipython-input-23-0068eda1ca67>\u001b[0m in \u001b[0;36m<module>\u001b[0;34m()\u001b[0m\n\u001b[1;32m      8\u001b[0m         \u001b[0mimgs\u001b[0m \u001b[0;34m=\u001b[0m \u001b[0mbatch\u001b[0m\u001b[0;34m[\u001b[0m\u001b[0;36m0\u001b[0m\u001b[0;34m]\u001b[0m\u001b[0;34m.\u001b[0m\u001b[0mreshape\u001b[0m\u001b[0;34m(\u001b[0m\u001b[0;34m(\u001b[0m\u001b[0;34m-\u001b[0m\u001b[0;36m1\u001b[0m\u001b[0;34m,\u001b[0m \u001b[0;36m28\u001b[0m\u001b[0;34m,\u001b[0m \u001b[0;36m28\u001b[0m\u001b[0;34m,\u001b[0m \u001b[0;36m1\u001b[0m\u001b[0;34m)\u001b[0m\u001b[0;34m)\u001b[0m\u001b[0;34m\u001b[0m\u001b[0m\n\u001b[1;32m      9\u001b[0m         batch_cost, _ = sess.run([cost, opt], feed_dict={inputs_: imgs,\n\u001b[0;32m---> 10\u001b[0;31m                                                          targets_: imgs})\n\u001b[0m\u001b[1;32m     11\u001b[0m         \u001b[0;32mif\u001b[0m \u001b[0mii\u001b[0m\u001b[0;34m%\u001b[0m\u001b[0;36m30\u001b[0m \u001b[0;34m==\u001b[0m \u001b[0;36m0\u001b[0m\u001b[0;34m:\u001b[0m\u001b[0;34m\u001b[0m\u001b[0m\n\u001b[1;32m     12\u001b[0m             print(\"Epoch: {}/{}...\".format(e+1, epochs), \"Batch: {}/{}...\".format(ii, n_batches),\n",
      "\u001b[0;32m~/Envs/tf1.1source/lib/python3.6/site-packages/tensorflow/python/client/session.py\u001b[0m in \u001b[0;36mrun\u001b[0;34m(self, fetches, feed_dict, options, run_metadata)\u001b[0m\n\u001b[1;32m    776\u001b[0m     \u001b[0;32mtry\u001b[0m\u001b[0;34m:\u001b[0m\u001b[0;34m\u001b[0m\u001b[0m\n\u001b[1;32m    777\u001b[0m       result = self._run(None, fetches, feed_dict, options_ptr,\n\u001b[0;32m--> 778\u001b[0;31m                          run_metadata_ptr)\n\u001b[0m\u001b[1;32m    779\u001b[0m       \u001b[0;32mif\u001b[0m \u001b[0mrun_metadata\u001b[0m\u001b[0;34m:\u001b[0m\u001b[0;34m\u001b[0m\u001b[0m\n\u001b[1;32m    780\u001b[0m         \u001b[0mproto_data\u001b[0m \u001b[0;34m=\u001b[0m \u001b[0mtf_session\u001b[0m\u001b[0;34m.\u001b[0m\u001b[0mTF_GetBuffer\u001b[0m\u001b[0;34m(\u001b[0m\u001b[0mrun_metadata_ptr\u001b[0m\u001b[0;34m)\u001b[0m\u001b[0;34m\u001b[0m\u001b[0m\n",
      "\u001b[0;32m~/Envs/tf1.1source/lib/python3.6/site-packages/tensorflow/python/client/session.py\u001b[0m in \u001b[0;36m_run\u001b[0;34m(self, handle, fetches, feed_dict, options, run_metadata)\u001b[0m\n\u001b[1;32m    980\u001b[0m     \u001b[0;32mif\u001b[0m \u001b[0mfinal_fetches\u001b[0m \u001b[0;32mor\u001b[0m \u001b[0mfinal_targets\u001b[0m\u001b[0;34m:\u001b[0m\u001b[0;34m\u001b[0m\u001b[0m\n\u001b[1;32m    981\u001b[0m       results = self._do_run(handle, final_targets, final_fetches,\n\u001b[0;32m--> 982\u001b[0;31m                              feed_dict_string, options, run_metadata)\n\u001b[0m\u001b[1;32m    983\u001b[0m     \u001b[0;32melse\u001b[0m\u001b[0;34m:\u001b[0m\u001b[0;34m\u001b[0m\u001b[0m\n\u001b[1;32m    984\u001b[0m       \u001b[0mresults\u001b[0m \u001b[0;34m=\u001b[0m \u001b[0;34m[\u001b[0m\u001b[0;34m]\u001b[0m\u001b[0;34m\u001b[0m\u001b[0m\n",
      "\u001b[0;32m~/Envs/tf1.1source/lib/python3.6/site-packages/tensorflow/python/client/session.py\u001b[0m in \u001b[0;36m_do_run\u001b[0;34m(self, handle, target_list, fetch_list, feed_dict, options, run_metadata)\u001b[0m\n\u001b[1;32m   1030\u001b[0m     \u001b[0;32mif\u001b[0m \u001b[0mhandle\u001b[0m \u001b[0;32mis\u001b[0m \u001b[0;32mNone\u001b[0m\u001b[0;34m:\u001b[0m\u001b[0;34m\u001b[0m\u001b[0m\n\u001b[1;32m   1031\u001b[0m       return self._do_call(_run_fn, self._session, feed_dict, fetch_list,\n\u001b[0;32m-> 1032\u001b[0;31m                            target_list, options, run_metadata)\n\u001b[0m\u001b[1;32m   1033\u001b[0m     \u001b[0;32melse\u001b[0m\u001b[0;34m:\u001b[0m\u001b[0;34m\u001b[0m\u001b[0m\n\u001b[1;32m   1034\u001b[0m       return self._do_call(_prun_fn, self._session, handle, feed_dict,\n",
      "\u001b[0;32m~/Envs/tf1.1source/lib/python3.6/site-packages/tensorflow/python/client/session.py\u001b[0m in \u001b[0;36m_do_call\u001b[0;34m(self, fn, *args)\u001b[0m\n\u001b[1;32m   1037\u001b[0m   \u001b[0;32mdef\u001b[0m \u001b[0m_do_call\u001b[0m\u001b[0;34m(\u001b[0m\u001b[0mself\u001b[0m\u001b[0;34m,\u001b[0m \u001b[0mfn\u001b[0m\u001b[0;34m,\u001b[0m \u001b[0;34m*\u001b[0m\u001b[0margs\u001b[0m\u001b[0;34m)\u001b[0m\u001b[0;34m:\u001b[0m\u001b[0;34m\u001b[0m\u001b[0m\n\u001b[1;32m   1038\u001b[0m     \u001b[0;32mtry\u001b[0m\u001b[0;34m:\u001b[0m\u001b[0;34m\u001b[0m\u001b[0m\n\u001b[0;32m-> 1039\u001b[0;31m       \u001b[0;32mreturn\u001b[0m \u001b[0mfn\u001b[0m\u001b[0;34m(\u001b[0m\u001b[0;34m*\u001b[0m\u001b[0margs\u001b[0m\u001b[0;34m)\u001b[0m\u001b[0;34m\u001b[0m\u001b[0m\n\u001b[0m\u001b[1;32m   1040\u001b[0m     \u001b[0;32mexcept\u001b[0m \u001b[0merrors\u001b[0m\u001b[0;34m.\u001b[0m\u001b[0mOpError\u001b[0m \u001b[0;32mas\u001b[0m \u001b[0me\u001b[0m\u001b[0;34m:\u001b[0m\u001b[0;34m\u001b[0m\u001b[0m\n\u001b[1;32m   1041\u001b[0m       \u001b[0mmessage\u001b[0m \u001b[0;34m=\u001b[0m \u001b[0mcompat\u001b[0m\u001b[0;34m.\u001b[0m\u001b[0mas_text\u001b[0m\u001b[0;34m(\u001b[0m\u001b[0me\u001b[0m\u001b[0;34m.\u001b[0m\u001b[0mmessage\u001b[0m\u001b[0;34m)\u001b[0m\u001b[0;34m\u001b[0m\u001b[0m\n",
      "\u001b[0;32m~/Envs/tf1.1source/lib/python3.6/site-packages/tensorflow/python/client/session.py\u001b[0m in \u001b[0;36m_run_fn\u001b[0;34m(session, feed_dict, fetch_list, target_list, options, run_metadata)\u001b[0m\n\u001b[1;32m   1019\u001b[0m         return tf_session.TF_Run(session, options,\n\u001b[1;32m   1020\u001b[0m                                  \u001b[0mfeed_dict\u001b[0m\u001b[0;34m,\u001b[0m \u001b[0mfetch_list\u001b[0m\u001b[0;34m,\u001b[0m \u001b[0mtarget_list\u001b[0m\u001b[0;34m,\u001b[0m\u001b[0;34m\u001b[0m\u001b[0m\n\u001b[0;32m-> 1021\u001b[0;31m                                  status, run_metadata)\n\u001b[0m\u001b[1;32m   1022\u001b[0m \u001b[0;34m\u001b[0m\u001b[0m\n\u001b[1;32m   1023\u001b[0m     \u001b[0;32mdef\u001b[0m \u001b[0m_prun_fn\u001b[0m\u001b[0;34m(\u001b[0m\u001b[0msession\u001b[0m\u001b[0;34m,\u001b[0m \u001b[0mhandle\u001b[0m\u001b[0;34m,\u001b[0m \u001b[0mfeed_dict\u001b[0m\u001b[0;34m,\u001b[0m \u001b[0mfetch_list\u001b[0m\u001b[0;34m)\u001b[0m\u001b[0;34m:\u001b[0m\u001b[0;34m\u001b[0m\u001b[0m\n",
      "\u001b[0;31mKeyboardInterrupt\u001b[0m: "
     ]
    }
   ],
   "source": [
    "epochs = 20\n",
    "batch_size = 200\n",
    "sess.run(tf.global_variables_initializer())\n",
    "for e in range(epochs):\n",
    "    n_batches = mnist.train.num_examples//batch_size\n",
    "    for ii in range(n_batches):\n",
    "        batch = mnist.train.next_batch(batch_size)\n",
    "        imgs = batch[0].reshape((-1, 28, 28, 1))\n",
    "        batch_cost, _ = sess.run([cost, opt], feed_dict={inputs_: imgs,\n",
    "                                                         targets_: imgs})\n",
    "        if ii%100 == 0:\n",
    "            print(\"Epoch: {}/{}...\".format(e+1, epochs), \"Batch: {}/{}...\".format(ii, n_batches),\n",
    "                  \"Training loss: {:.4f}\".format(batch_cost))"
   ]
  },
  {
   "cell_type": "code",
   "execution_count": 24,
   "metadata": {},
   "outputs": [
    {
     "data": {
      "image/png": "[encoded data removed]",
      "text/plain": [
       "<matplotlib.figure.Figure at 0x11b99ceb8>"
      ]
     },
     "metadata": {},
     "output_type": "display_data"
    }
   ],
   "source": [
    "fig, axes = plt.subplots(nrows=2, ncols=10, sharex=True, sharey=True, figsize=(20,4))\n",
    "in_imgs = mnist.test.images[:10]\n",
    "reconstructed = sess.run(decoded, feed_dict={inputs_: in_imgs.reshape((10, 28, 28, 1))})\n",
    "\n",
    "for images, row in zip([in_imgs, reconstructed], axes):\n",
    "    for img, ax in zip(images, row):\n",
    "        ax.imshow(img.reshape((28, 28)), cmap='Greys_r')\n",
    "        ax.get_xaxis().set_visible(False)\n",
    "        ax.get_yaxis().set_visible(False)\n",
    "\n",
    "\n",
    "fig.tight_layout(pad=0.1)"
   ]
  },
  {
   "cell_type": "code",
   "execution_count": 25,
   "metadata": {
    "collapsed": true
   },
   "outputs": [],
   "source": [
    "sess.close()"
   ]
  },
  {
   "cell_type": "markdown",
   "metadata": {},
   "source": [
    "## Denoising\n",
    "\n",
    "As I've mentioned before, autoencoders like the ones you've built so far aren't too useful in practive. However, they can be used to denoise images quite successfully just by training the network on noisy images. We can create the noisy images ourselves by adding Gaussian noise to the training images, then clipping the values to be between 0 and 1. We'll use noisy images as input and the original, clean images as targets. Here's an example of the noisy images I generated and the denoised images.\n",
    "\n",
    "![Denoising autoencoder](assets/denoising.png)\n",
    "\n",
    "\n",
    "Since this is a harder problem for the network, we'll want to use deeper convolutional layers here, more feature maps. I suggest something like 32-32-16 for the depths of the convolutional layers in the encoder, and the same depths going backward through the decoder. Otherwise the architecture is the same as before.\n",
    "\n",
    "> **Exercise:** Build the network for the denoising autoencoder. It's the same as before, but with deeper layers. I suggest 32-32-16 for the depths, but you can play with these numbers, or add more layers."
   ]
  },
  {
   "cell_type": "code",
   "execution_count": 33,
   "metadata": {},
   "outputs": [
    {
     "name": "stdout",
     "output_type": "stream",
     "text": [
      "(?, 4, 4, 16)\n"
     ]
    }
   ],
   "source": [
    "learning_rate = 0.001\n",
    "inputs_ = tf.placeholder(tf.float32, (None, 28, 28, 1), name='inputs')\n",
    "targets_ = tf.placeholder(tf.float32, (None, 28, 28, 1), name='targets')\n",
    "\n",
    "\n",
    "### Encoder\n",
    "conv1 = tf.layers.conv2d(inputs_, 32, (3, 3), padding='same', activation=tf.nn.relu)\n",
    "# Now 28x28x16 # Now 28x28x32\n",
    "\n",
    "maxpool1 = tf.layers.max_pooling2d(conv1, (2, 2), (2, 2), padding='same')\n",
    "# Now 14x14x16 14x14x32\n",
    "\n",
    "conv2 = tf.layers.conv2d(maxpool1, 32, (3, 3), padding='same', activation=tf.nn.relu)\n",
    "# Now 14x14x8 14x14x32\n",
    "\n",
    "maxpool2 = tf.layers.max_pooling2d(conv2, (2, 2), (2, 2), padding='same')\n",
    "# Now 7x7x8 7x7x32\n",
    "\n",
    "conv3 = tf.layers.conv2d(maxpool2, 16, (3, 3), padding='same', activation=tf.nn.relu)\n",
    "# Now 7x7x8 7x7x16\n",
    "\n",
    "encoded = tf.layers.max_pooling2d(conv3, (2, 2), (2, 2), padding='same')\n",
    "# Now 4x4x8 4x4x16\n",
    "### Encoder\n",
    "\n",
    "print(encoded.shape)"
   ]
  },
  {
   "cell_type": "code",
   "execution_count": 41,
   "metadata": {},
   "outputs": [
    {
     "name": "stdout",
     "output_type": "stream",
     "text": [
      "(?, 7, 7, 16) 7x7x16\n",
      "(?, 7, 7, 16) 7x7x16\n",
      "(?, 14, 14, 16) 14x14x16\n",
      "(?, 14, 14, 32) 14x14x32\n",
      "(?, 28, 28, 32) 28x28x32\n",
      "(?, 28, 28, 32) 28x28x32\n"
     ]
    }
   ],
   "source": [
    "### Decoder\n",
    "upsample1 = tf.image.resize_nearest_neighbor(encoded, (7,7))\n",
    "print(upsample1.shape, \"7x7x16\")\n",
    "# Now 7x7x8 7x7x16\n",
    "conv4 = tf.layers.conv2d(upsample1, 16, (3, 3), padding='same', activation=tf.nn.relu)\n",
    "# Now 7x7x8 7x7x16\n",
    "print(conv4.shape, \"7x7x16\")\n",
    "\n",
    "upsample2 = tf.image.resize_nearest_neighbor(conv4, (14,14))\n",
    "print(upsample2.shape, \"14x14x16\")\n",
    "# Now 14x14x8 14x14x16\n",
    "\n",
    "conv5 = tf.layers.conv2d(upsample2, 32, (3, 3), padding='same', activation=tf.nn.relu)\n",
    "print(conv5.shape, \"14x14x32\")\n",
    "# Now 14x14x8 14x14x32\n",
    "\n",
    "upsample3 = tf.image.resize_nearest_neighbor(conv5, (28,28))\n",
    "# Now 28x28x8 28x28x32\n",
    "print(upsample3.shape, \"28x28x32\")\n",
    "\n",
    "conv6 = tf.layers.conv2d(upsample3, 32, (3, 3), padding='same', activation=tf.nn.relu)\n",
    "# Now 28x28x16 28x28x32\n",
    "print(conv6.shape, \"28x28x32\")\n",
    "\n",
    "logits = tf.layers.conv2d(conv6, 1, (3,3), padding='same', activation=None)\n",
    "#Now 28x28x1\n",
    "\n",
    "# Pass logits through sigmoid to get reconstructed image\n",
    "decoded = tf.sigmoid(logits)\n",
    "\n",
    "# Pass logits through sigmoid and calculate the cross-entropy loss\n",
    "loss = tf.nn.sigmoid_cross_entropy_with_logits(labels=targets_, logits=logits)\n",
    "\n",
    "# Get cost and define the optimizer\n",
    "cost = tf.reduce_mean(loss)\n",
    "opt = tf.train.AdamOptimizer(learning_rate).minimize(cost)"
   ]
  },
  {
   "cell_type": "code",
   "execution_count": 42,
   "metadata": {
    "collapsed": true
   },
   "outputs": [],
   "source": [
    "sess = tf.Session()"
   ]
  },
  {
   "cell_type": "code",
   "execution_count": 46,
   "metadata": {},
   "outputs": [
    {
     "name": "stdout",
     "output_type": "stream",
     "text": [
      "Epoch: 1/100... Batch 0/300 Training loss: 0.6990\n",
      "Epoch: 1/100... Batch 50/300 Training loss: 0.2730\n",
      "Epoch: 1/100... Batch 100/300 Training loss: 0.2249\n",
      "Epoch: 1/100... Batch 150/300 Training loss: 0.2056\n",
      "Epoch: 1/100... Batch 200/300 Training loss: 0.1901\n",
      "Epoch: 1/100... Batch 250/300 Training loss: 0.1800\n",
      "Epoch: 2/100... Batch 0/300 Training loss: 0.1794\n",
      "Epoch: 2/100... Batch 50/300 Training loss: 0.1683\n",
      "Epoch: 2/100... Batch 100/300 Training loss: 0.1606\n",
      "Epoch: 2/100... Batch 150/300 Training loss: 0.1614\n",
      "Epoch: 2/100... Batch 200/300 Training loss: 0.1544\n",
      "Epoch: 2/100... Batch 250/300 Training loss: 0.1589\n",
      "Epoch: 3/100... Batch 0/300 Training loss: 0.1481\n",
      "Epoch: 3/100... Batch 50/300 Training loss: 0.1457\n",
      "Epoch: 3/100... Batch 100/300 Training loss: 0.1446\n",
      "Epoch: 3/100... Batch 150/300 Training loss: 0.1412\n",
      "Epoch: 3/100... Batch 200/300 Training loss: 0.1465\n",
      "Epoch: 3/100... Batch 250/300 Training loss: 0.1418\n",
      "Epoch: 4/100... Batch 0/300 Training loss: 0.1386\n",
      "Epoch: 4/100... Batch 50/300 Training loss: 0.1379\n",
      "Epoch: 4/100... Batch 100/300 Training loss: 0.1342\n",
      "Epoch: 4/100... Batch 150/300 Training loss: 0.1303\n",
      "Epoch: 4/100... Batch 200/300 Training loss: 0.1313\n",
      "Epoch: 4/100... Batch 250/300 Training loss: 0.1269\n",
      "Epoch: 5/100... Batch 0/300 Training loss: 0.1334\n",
      "Epoch: 5/100... Batch 50/300 Training loss: 0.1297\n",
      "Epoch: 5/100... Batch 100/300 Training loss: 0.1301\n",
      "Epoch: 5/100... Batch 150/300 Training loss: 0.1295\n",
      "Epoch: 5/100... Batch 200/300 Training loss: 0.1314\n",
      "Epoch: 5/100... Batch 250/300 Training loss: 0.1231\n",
      "Epoch: 6/100... Batch 0/300 Training loss: 0.1279\n",
      "Epoch: 6/100... Batch 50/300 Training loss: 0.1213\n",
      "Epoch: 6/100... Batch 100/300 Training loss: 0.1199\n",
      "Epoch: 6/100... Batch 150/300 Training loss: 0.1217\n",
      "Epoch: 6/100... Batch 200/300 Training loss: 0.1279\n",
      "Epoch: 6/100... Batch 250/300 Training loss: 0.1237\n",
      "Epoch: 7/100... Batch 0/300 Training loss: 0.1191\n",
      "Epoch: 7/100... Batch 50/300 Training loss: 0.1206\n",
      "Epoch: 7/100... Batch 100/300 Training loss: 0.1177\n",
      "Epoch: 7/100... Batch 150/300 Training loss: 0.1216\n",
      "Epoch: 7/100... Batch 200/300 Training loss: 0.1228\n",
      "Epoch: 7/100... Batch 250/300 Training loss: 0.1191\n",
      "Epoch: 8/100... Batch 0/300 Training loss: 0.1181\n",
      "Epoch: 8/100... Batch 50/300 Training loss: 0.1207\n",
      "Epoch: 8/100... Batch 100/300 Training loss: 0.1160\n",
      "Epoch: 8/100... Batch 150/300 Training loss: 0.1208\n",
      "Epoch: 8/100... Batch 200/300 Training loss: 0.1218\n",
      "Epoch: 8/100... Batch 250/300 Training loss: 0.1164\n",
      "Epoch: 9/100... Batch 0/300 Training loss: 0.1210\n",
      "Epoch: 9/100... Batch 50/300 Training loss: 0.1156\n",
      "Epoch: 9/100... Batch 100/300 Training loss: 0.1211\n",
      "Epoch: 9/100... Batch 150/300 Training loss: 0.1152\n",
      "Epoch: 9/100... Batch 200/300 Training loss: 0.1193\n",
      "Epoch: 9/100... Batch 250/300 Training loss: 0.1185\n",
      "Epoch: 10/100... Batch 0/300 Training loss: 0.1184\n",
      "Epoch: 10/100... Batch 50/300 Training loss: 0.1214\n",
      "Epoch: 10/100... Batch 100/300 Training loss: 0.1183\n",
      "Epoch: 10/100... Batch 150/300 Training loss: 0.1143\n",
      "Epoch: 10/100... Batch 200/300 Training loss: 0.1149\n",
      "Epoch: 10/100... Batch 250/300 Training loss: 0.1172\n",
      "Epoch: 11/100... Batch 0/300 Training loss: 0.1128\n",
      "Epoch: 11/100... Batch 50/300 Training loss: 0.1148\n",
      "Epoch: 11/100... Batch 100/300 Training loss: 0.1173\n",
      "Epoch: 11/100... Batch 150/300 Training loss: 0.1128\n",
      "Epoch: 11/100... Batch 200/300 Training loss: 0.1140\n",
      "Epoch: 11/100... Batch 250/300 Training loss: 0.1131\n",
      "Epoch: 12/100... Batch 0/300 Training loss: 0.1146\n",
      "Epoch: 12/100... Batch 50/300 Training loss: 0.1152\n",
      "Epoch: 12/100... Batch 100/300 Training loss: 0.1136\n",
      "Epoch: 12/100... Batch 150/300 Training loss: 0.1129\n",
      "Epoch: 12/100... Batch 200/300 Training loss: 0.1139\n",
      "Epoch: 12/100... Batch 250/300 Training loss: 0.1141\n",
      "Epoch: 13/100... Batch 0/300 Training loss: 0.1122\n",
      "Epoch: 13/100... Batch 50/300 Training loss: 0.1122\n",
      "Epoch: 13/100... Batch 100/300 Training loss: 0.1087\n",
      "Epoch: 13/100... Batch 150/300 Training loss: 0.1152\n",
      "Epoch: 13/100... Batch 200/300 Training loss: 0.1140\n",
      "Epoch: 13/100... Batch 250/300 Training loss: 0.1103\n",
      "Epoch: 14/100... Batch 0/300 Training loss: 0.1094\n",
      "Epoch: 14/100... Batch 50/300 Training loss: 0.1158\n",
      "Epoch: 14/100... Batch 100/300 Training loss: 0.1101\n",
      "Epoch: 14/100... Batch 150/300 Training loss: 0.1088\n",
      "Epoch: 14/100... Batch 200/300 Training loss: 0.1115\n",
      "Epoch: 14/100... Batch 250/300 Training loss: 0.1138\n",
      "Epoch: 15/100... Batch 0/300 Training loss: 0.1119\n",
      "Epoch: 15/100... Batch 50/300 Training loss: 0.1120\n",
      "Epoch: 15/100... Batch 100/300 Training loss: 0.1113\n",
      "Epoch: 15/100... Batch 150/300 Training loss: 0.1076\n",
      "Epoch: 15/100... Batch 200/300 Training loss: 0.1134\n",
      "Epoch: 15/100... Batch 250/300 Training loss: 0.1129\n",
      "Epoch: 16/100... Batch 0/300 Training loss: 0.1089\n",
      "Epoch: 16/100... Batch 50/300 Training loss: 0.1115\n",
      "Epoch: 16/100... Batch 100/300 Training loss: 0.1121\n",
      "Epoch: 16/100... Batch 150/300 Training loss: 0.1081\n",
      "Epoch: 16/100... Batch 200/300 Training loss: 0.1099\n",
      "Epoch: 16/100... Batch 250/300 Training loss: 0.1091\n",
      "Epoch: 17/100... Batch 0/300 Training loss: 0.1061\n",
      "Epoch: 17/100... Batch 50/300 Training loss: 0.1145\n",
      "Epoch: 17/100... Batch 100/300 Training loss: 0.1092\n",
      "Epoch: 17/100... Batch 150/300 Training loss: 0.1107\n",
      "Epoch: 17/100... Batch 200/300 Training loss: 0.1141\n",
      "Epoch: 17/100... Batch 250/300 Training loss: 0.1071\n",
      "Epoch: 18/100... Batch 0/300 Training loss: 0.1081\n",
      "Epoch: 18/100... Batch 50/300 Training loss: 0.1059\n",
      "Epoch: 18/100... Batch 100/300 Training loss: 0.1080\n",
      "Epoch: 18/100... Batch 150/300 Training loss: 0.1097\n",
      "Epoch: 18/100... Batch 200/300 Training loss: 0.1073\n",
      "Epoch: 18/100... Batch 250/300 Training loss: 0.1074\n",
      "Epoch: 19/100... Batch 0/300 Training loss: 0.1101\n",
      "Epoch: 19/100... Batch 50/300 Training loss: 0.1069\n",
      "Epoch: 19/100... Batch 100/300 Training loss: 0.1094\n",
      "Epoch: 19/100... Batch 150/300 Training loss: 0.1060\n",
      "Epoch: 19/100... Batch 200/300 Training loss: 0.1101\n",
      "Epoch: 19/100... Batch 250/300 Training loss: 0.1054\n",
      "Epoch: 20/100... Batch 0/300 Training loss: 0.1070\n",
      "Epoch: 20/100... Batch 50/300 Training loss: 0.1070\n",
      "Epoch: 20/100... Batch 100/300 Training loss: 0.1036\n",
      "Epoch: 20/100... Batch 150/300 Training loss: 0.1052\n",
      "Epoch: 20/100... Batch 200/300 Training loss: 0.1061\n",
      "Epoch: 20/100... Batch 250/300 Training loss: 0.1077\n",
      "Epoch: 21/100... Batch 0/300 Training loss: 0.1084\n",
      "Epoch: 21/100... Batch 50/300 Training loss: 0.1087\n",
      "Epoch: 21/100... Batch 100/300 Training loss: 0.1037\n",
      "Epoch: 21/100... Batch 150/300 Training loss: 0.1073\n",
      "Epoch: 21/100... Batch 200/300 Training loss: 0.1079\n",
      "Epoch: 21/100... Batch 250/300 Training loss: 0.1088\n",
      "Epoch: 22/100... Batch 0/300 Training loss: 0.1073\n",
      "Epoch: 22/100... Batch 50/300 Training loss: 0.1051\n",
      "Epoch: 22/100... Batch 100/300 Training loss: 0.1059\n",
      "Epoch: 22/100... Batch 150/300 Training loss: 0.1081\n",
      "Epoch: 22/100... Batch 200/300 Training loss: 0.1087\n",
      "Epoch: 22/100... Batch 250/300 Training loss: 0.1066\n",
      "Epoch: 23/100... Batch 0/300 Training loss: 0.1057\n",
      "Epoch: 23/100... Batch 50/300 Training loss: 0.1063\n",
      "Epoch: 23/100... Batch 100/300 Training loss: 0.1062\n",
      "Epoch: 23/100... Batch 150/300 Training loss: 0.1062\n",
      "Epoch: 23/100... Batch 200/300 Training loss: 0.1072\n",
      "Epoch: 23/100... Batch 250/300 Training loss: 0.1058\n",
      "Epoch: 24/100... Batch 0/300 Training loss: 0.1067\n",
      "Epoch: 24/100... Batch 50/300 Training loss: 0.1051\n",
      "Epoch: 24/100... Batch 100/300 Training loss: 0.1078\n",
      "Epoch: 24/100... Batch 150/300 Training loss: 0.1051\n",
      "Epoch: 24/100... Batch 200/300 Training loss: 0.1046\n",
      "Epoch: 24/100... Batch 250/300 Training loss: 0.1056\n",
      "Epoch: 25/100... Batch 0/300 Training loss: 0.1058\n",
      "Epoch: 25/100... Batch 50/300 Training loss: 0.1068\n",
      "Epoch: 25/100... Batch 100/300 Training loss: 0.1075\n",
      "Epoch: 25/100... Batch 150/300 Training loss: 0.1050\n",
      "Epoch: 25/100... Batch 200/300 Training loss: 0.1046\n",
      "Epoch: 25/100... Batch 250/300 Training loss: 0.1068\n",
      "Epoch: 26/100... Batch 0/300 Training loss: 0.1060\n",
      "Epoch: 26/100... Batch 50/300 Training loss: 0.1027\n",
      "Epoch: 26/100... Batch 100/300 Training loss: 0.1062\n",
      "Epoch: 26/100... Batch 150/300 Training loss: 0.1056\n",
      "Epoch: 26/100... Batch 200/300 Training loss: 0.1033\n",
      "Epoch: 26/100... Batch 250/300 Training loss: 0.1095\n",
      "Epoch: 27/100... Batch 0/300 Training loss: 0.1065\n",
      "Epoch: 27/100... Batch 50/300 Training loss: 0.1046\n"
     ]
    },
    {
     "ename": "KeyboardInterrupt",
     "evalue": "",
     "output_type": "error",
     "traceback": [
      "\u001b[0;31m---------------------------------------------------------------------------\u001b[0m",
      "\u001b[0;31mKeyboardInterrupt\u001b[0m                         Traceback (most recent call last)",
      "\u001b[0;32m<ipython-input-46-7fa456ccef37>\u001b[0m in \u001b[0;36m<module>\u001b[0;34m()\u001b[0m\n\u001b[1;32m     18\u001b[0m         \u001b[0;31m# Noisy images as inputs, original images as targets\u001b[0m\u001b[0;34m\u001b[0m\u001b[0;34m\u001b[0m\u001b[0m\n\u001b[1;32m     19\u001b[0m         batch_cost, _ = sess.run([cost, opt], feed_dict={inputs_: noisy_imgs,\n\u001b[0;32m---> 20\u001b[0;31m                                                          targets_: imgs})\n\u001b[0m\u001b[1;32m     21\u001b[0m \u001b[0;34m\u001b[0m\u001b[0m\n\u001b[1;32m     22\u001b[0m         \u001b[0;32mif\u001b[0m \u001b[0mii\u001b[0m\u001b[0;34m%\u001b[0m\u001b[0;36m50\u001b[0m \u001b[0;34m==\u001b[0m \u001b[0;36m0\u001b[0m\u001b[0;34m:\u001b[0m\u001b[0;34m\u001b[0m\u001b[0m\n",
      "\u001b[0;32m~/Envs/tf1.1source/lib/python3.6/site-packages/tensorflow/python/client/session.py\u001b[0m in \u001b[0;36mrun\u001b[0;34m(self, fetches, feed_dict, options, run_metadata)\u001b[0m\n\u001b[1;32m    776\u001b[0m     \u001b[0;32mtry\u001b[0m\u001b[0;34m:\u001b[0m\u001b[0;34m\u001b[0m\u001b[0m\n\u001b[1;32m    777\u001b[0m       result = self._run(None, fetches, feed_dict, options_ptr,\n\u001b[0;32m--> 778\u001b[0;31m                          run_metadata_ptr)\n\u001b[0m\u001b[1;32m    779\u001b[0m       \u001b[0;32mif\u001b[0m \u001b[0mrun_metadata\u001b[0m\u001b[0;34m:\u001b[0m\u001b[0;34m\u001b[0m\u001b[0m\n\u001b[1;32m    780\u001b[0m         \u001b[0mproto_data\u001b[0m \u001b[0;34m=\u001b[0m \u001b[0mtf_session\u001b[0m\u001b[0;34m.\u001b[0m\u001b[0mTF_GetBuffer\u001b[0m\u001b[0;34m(\u001b[0m\u001b[0mrun_metadata_ptr\u001b[0m\u001b[0;34m)\u001b[0m\u001b[0;34m\u001b[0m\u001b[0m\n",
      "\u001b[0;32m~/Envs/tf1.1source/lib/python3.6/site-packages/tensorflow/python/client/session.py\u001b[0m in \u001b[0;36m_run\u001b[0;34m(self, handle, fetches, feed_dict, options, run_metadata)\u001b[0m\n\u001b[1;32m    980\u001b[0m     \u001b[0;32mif\u001b[0m \u001b[0mfinal_fetches\u001b[0m \u001b[0;32mor\u001b[0m \u001b[0mfinal_targets\u001b[0m\u001b[0;34m:\u001b[0m\u001b[0;34m\u001b[0m\u001b[0m\n\u001b[1;32m    981\u001b[0m       results = self._do_run(handle, final_targets, final_fetches,\n\u001b[0;32m--> 982\u001b[0;31m                              feed_dict_string, options, run_metadata)\n\u001b[0m\u001b[1;32m    983\u001b[0m     \u001b[0;32melse\u001b[0m\u001b[0;34m:\u001b[0m\u001b[0;34m\u001b[0m\u001b[0m\n\u001b[1;32m    984\u001b[0m       \u001b[0mresults\u001b[0m \u001b[0;34m=\u001b[0m \u001b[0;34m[\u001b[0m\u001b[0;34m]\u001b[0m\u001b[0;34m\u001b[0m\u001b[0m\n",
      "\u001b[0;32m~/Envs/tf1.1source/lib/python3.6/site-packages/tensorflow/python/client/session.py\u001b[0m in \u001b[0;36m_do_run\u001b[0;34m(self, handle, target_list, fetch_list, feed_dict, options, run_metadata)\u001b[0m\n\u001b[1;32m   1030\u001b[0m     \u001b[0;32mif\u001b[0m \u001b[0mhandle\u001b[0m \u001b[0;32mis\u001b[0m \u001b[0;32mNone\u001b[0m\u001b[0;34m:\u001b[0m\u001b[0;34m\u001b[0m\u001b[0m\n\u001b[1;32m   1031\u001b[0m       return self._do_call(_run_fn, self._session, feed_dict, fetch_list,\n\u001b[0;32m-> 1032\u001b[0;31m                            target_list, options, run_metadata)\n\u001b[0m\u001b[1;32m   1033\u001b[0m     \u001b[0;32melse\u001b[0m\u001b[0;34m:\u001b[0m\u001b[0;34m\u001b[0m\u001b[0m\n\u001b[1;32m   1034\u001b[0m       return self._do_call(_prun_fn, self._session, handle, feed_dict,\n",
      "\u001b[0;32m~/Envs/tf1.1source/lib/python3.6/site-packages/tensorflow/python/client/session.py\u001b[0m in \u001b[0;36m_do_call\u001b[0;34m(self, fn, *args)\u001b[0m\n\u001b[1;32m   1037\u001b[0m   \u001b[0;32mdef\u001b[0m \u001b[0m_do_call\u001b[0m\u001b[0;34m(\u001b[0m\u001b[0mself\u001b[0m\u001b[0;34m,\u001b[0m \u001b[0mfn\u001b[0m\u001b[0;34m,\u001b[0m \u001b[0;34m*\u001b[0m\u001b[0margs\u001b[0m\u001b[0;34m)\u001b[0m\u001b[0;34m:\u001b[0m\u001b[0;34m\u001b[0m\u001b[0m\n\u001b[1;32m   1038\u001b[0m     \u001b[0;32mtry\u001b[0m\u001b[0;34m:\u001b[0m\u001b[0;34m\u001b[0m\u001b[0m\n\u001b[0;32m-> 1039\u001b[0;31m       \u001b[0;32mreturn\u001b[0m \u001b[0mfn\u001b[0m\u001b[0;34m(\u001b[0m\u001b[0;34m*\u001b[0m\u001b[0margs\u001b[0m\u001b[0;34m)\u001b[0m\u001b[0;34m\u001b[0m\u001b[0m\n\u001b[0m\u001b[1;32m   1040\u001b[0m     \u001b[0;32mexcept\u001b[0m \u001b[0merrors\u001b[0m\u001b[0;34m.\u001b[0m\u001b[0mOpError\u001b[0m \u001b[0;32mas\u001b[0m \u001b[0me\u001b[0m\u001b[0;34m:\u001b[0m\u001b[0;34m\u001b[0m\u001b[0m\n\u001b[1;32m   1041\u001b[0m       \u001b[0mmessage\u001b[0m \u001b[0;34m=\u001b[0m \u001b[0mcompat\u001b[0m\u001b[0;34m.\u001b[0m\u001b[0mas_text\u001b[0m\u001b[0;34m(\u001b[0m\u001b[0me\u001b[0m\u001b[0;34m.\u001b[0m\u001b[0mmessage\u001b[0m\u001b[0;34m)\u001b[0m\u001b[0;34m\u001b[0m\u001b[0m\n",
      "\u001b[0;32m~/Envs/tf1.1source/lib/python3.6/site-packages/tensorflow/python/client/session.py\u001b[0m in \u001b[0;36m_run_fn\u001b[0;34m(session, feed_dict, fetch_list, target_list, options, run_metadata)\u001b[0m\n\u001b[1;32m   1019\u001b[0m         return tf_session.TF_Run(session, options,\n\u001b[1;32m   1020\u001b[0m                                  \u001b[0mfeed_dict\u001b[0m\u001b[0;34m,\u001b[0m \u001b[0mfetch_list\u001b[0m\u001b[0;34m,\u001b[0m \u001b[0mtarget_list\u001b[0m\u001b[0;34m,\u001b[0m\u001b[0;34m\u001b[0m\u001b[0m\n\u001b[0;32m-> 1021\u001b[0;31m                                  status, run_metadata)\n\u001b[0m\u001b[1;32m   1022\u001b[0m \u001b[0;34m\u001b[0m\u001b[0m\n\u001b[1;32m   1023\u001b[0m     \u001b[0;32mdef\u001b[0m \u001b[0m_prun_fn\u001b[0m\u001b[0;34m(\u001b[0m\u001b[0msession\u001b[0m\u001b[0;34m,\u001b[0m \u001b[0mhandle\u001b[0m\u001b[0;34m,\u001b[0m \u001b[0mfeed_dict\u001b[0m\u001b[0;34m,\u001b[0m \u001b[0mfetch_list\u001b[0m\u001b[0;34m)\u001b[0m\u001b[0;34m:\u001b[0m\u001b[0;34m\u001b[0m\u001b[0m\n",
      "\u001b[0;31mKeyboardInterrupt\u001b[0m: "
     ]
    }
   ],
   "source": [
    "epochs = 100\n",
    "batch_size = 200\n",
    "# Set's how much noise we're adding to the MNIST images\n",
    "noise_factor = 0.5\n",
    "sess.run(tf.global_variables_initializer())\n",
    "for e in range(epochs):\n",
    "    n_batches = mnist.train.num_examples//batch_size\n",
    "    for ii in range(n_batches):\n",
    "        batch = mnist.train.next_batch(batch_size)\n",
    "        # Get images from the batch\n",
    "        imgs = batch[0].reshape((-1, 28, 28, 1))\n",
    "        \n",
    "        # Add random noise to the input images\n",
    "        noisy_imgs = imgs + noise_factor * np.random.randn(*imgs.shape)\n",
    "        # Clip the images to be between 0 and 1\n",
    "        noisy_imgs = np.clip(noisy_imgs, 0., 1.)\n",
    "        \n",
    "        # Noisy images as inputs, original images as targets\n",
    "        batch_cost, _ = sess.run([cost, opt], feed_dict={inputs_: noisy_imgs,\n",
    "                                                         targets_: imgs})\n",
    "        \n",
    "        if ii%50 == 0:\n",
    "            print(\"Epoch: {}/{}...\".format(e+1, epochs), \"Batch {}/{}\".format(ii, n_batches),\n",
    "                  \"Training loss: {:.4f}\".format(batch_cost))"
   ]
  },
  {
   "cell_type": "markdown",
   "metadata": {},
   "source": [
    "## Checking out the performance\n",
    "\n",
    "Here I'm adding noise to the test images and passing them through the autoencoder. It does a suprisingly great job of removing the noise, even though it's sometimes difficult to tell what the original number is."
   ]
  },
  {
   "cell_type": "code",
   "execution_count": 48,
   "metadata": {},
   "outputs": [
    {
     "data": {
      "image/png": "[encoded data removed]",
      "text/plain": [
       "<matplotlib.figure.Figure at 0x1157154a8>"
      ]
     },
     "metadata": {},
     "output_type": "display_data"
    }
   ],
   "source": [
    "fig, axes = plt.subplots(nrows=2, ncols=10, sharex=True, sharey=True, figsize=(20,4))\n",
    "in_imgs = mnist.test.images[:10]\n",
    "noisy_imgs = in_imgs + noise_factor * np.random.randn(*in_imgs.shape)\n",
    "noisy_imgs = np.clip(noisy_imgs, 0., 1.)\n",
    "\n",
    "reconstructed = sess.run(decoded, feed_dict={inputs_: noisy_imgs.reshape((10, 28, 28, 1))})\n",
    "\n",
    "for images, row in zip([noisy_imgs, reconstructed], axes):\n",
    "    for img, ax in zip(images, row):\n",
    "        ax.imshow(img.reshape((28, 28)), cmap='Greys_r')\n",
    "        ax.get_xaxis().set_visible(False)\n",
    "        ax.get_yaxis().set_visible(False)\n",
    "\n",
    "fig.tight_layout(pad=0.1)"
   ]
  },
  {
   "cell_type": "code",
   "execution_count": null,
   "metadata": {
    "collapsed": true
   },
   "outputs": [],
   "source": []
  }
 ],
 "metadata": {
  "kernelspec": {
   "display_name": "Python 3",
   "language": "python",
   "name": "python3"
  },
  "language_info": {
   "codemirror_mode": {
    "name": "ipython",
    "version": 3
   },
   "file_extension": ".py",
   "mimetype": "text/x-python",
   "name": "python",
   "nbconvert_exporter": "python",
   "pygments_lexer": "ipython3",
   "version": "3.6.1"
  }
 },
 "nbformat": 4,
 "nbformat_minor": 2
}
